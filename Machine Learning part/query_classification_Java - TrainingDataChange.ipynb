{
 "cells": [
  {
   "cell_type": "code",
   "execution_count": 40,
   "metadata": {},
   "outputs": [],
   "source": [
    "import numpy as np\n",
    "import pandas as pd\n",
    "import matplotlib.pyplot as plt\n",
    "import nltk\n",
    "from nltk.corpus import stopwords\n",
    "import re\n",
    "from nltk.stem import WordNetLemmatizer\n",
    "from sklearn.feature_extraction.text import TfidfVectorizer\n",
    "from sklearn.metrics import accuracy_score,confusion_matrix\n",
    "from sklearn.ensemble import AdaBoostClassifier\n",
    "from sklearn.tree import DecisionTreeClassifier\n",
    "from sklearn.model_selection import train_test_split\n",
    "import pickle\n",
    "import seaborn as sns\n",
    "import time\n",
    "from sklearn.metrics import classification_report\n",
    "from sklearn.decomposition import PCA\n",
    "from numpy import concatenate\n",
    "from sklearn.datasets import make_classification\n",
    "from sklearn.model_selection import train_test_split\n",
    "from sklearn.metrics import accuracy_score\n",
    "from sklearn.semi_supervised import LabelPropagation\n",
    "from sklearn.linear_model import LogisticRegression\n",
    "from sklearn import neighbors\n",
    "from sklearn.neighbors import KNeighborsClassifier\n",
    "from sklearn.naive_bayes import MultinomialNB \n",
    "from sklearn.metrics import classification_report\n",
    "from sklearn.linear_model import SGDClassifier\n",
    "from sklearn.svm import SVC\n",
    "from xgboost import XGBClassifier\n",
    "\n",
    "from sklearn.metrics import roc_curve\n",
    "from sklearn.metrics import roc_auc_score\n",
    "from sklearn.metrics import confusion_matrix\n",
    "from sklearn.metrics import r2_score, mean_squared_error"
   ]
  },
  {
   "cell_type": "code",
   "execution_count": 3,
   "metadata": {},
   "outputs": [
    {
     "data": {
      "text/html": [
       "<div>\n",
       "<style scoped>\n",
       "    .dataframe tbody tr th:only-of-type {\n",
       "        vertical-align: middle;\n",
       "    }\n",
       "\n",
       "    .dataframe tbody tr th {\n",
       "        vertical-align: top;\n",
       "    }\n",
       "\n",
       "    .dataframe thead th {\n",
       "        text-align: right;\n",
       "    }\n",
       "</style>\n",
       "<table border=\"1\" class=\"dataframe\">\n",
       "  <thead>\n",
       "    <tr style=\"text-align: right;\">\n",
       "      <th></th>\n",
       "      <th>QueryString</th>\n",
       "      <th>PredictedLabel</th>\n",
       "    </tr>\n",
       "  </thead>\n",
       "  <tbody>\n",
       "    <tr>\n",
       "      <th>0</th>\n",
       "      <td>64 bit java</td>\n",
       "      <td>False</td>\n",
       "    </tr>\n",
       "    <tr>\n",
       "      <th>1</th>\n",
       "      <td>java 64 bit download</td>\n",
       "      <td>False</td>\n",
       "    </tr>\n",
       "    <tr>\n",
       "      <th>2</th>\n",
       "      <td>java test</td>\n",
       "      <td>False</td>\n",
       "    </tr>\n",
       "    <tr>\n",
       "      <th>3</th>\n",
       "      <td>java control panel windows 10</td>\n",
       "      <td>False</td>\n",
       "    </tr>\n",
       "    <tr>\n",
       "      <th>4</th>\n",
       "      <td>java jre download</td>\n",
       "      <td>False</td>\n",
       "    </tr>\n",
       "  </tbody>\n",
       "</table>\n",
       "</div>"
      ],
      "text/plain": [
       "                     QueryString  PredictedLabel\n",
       "0                    64 bit java           False\n",
       "1           java 64 bit download           False\n",
       "2                      java test           False\n",
       "3  java control panel windows 10           False\n",
       "4              java jre download           False"
      ]
     },
     "execution_count": 3,
     "metadata": {},
     "output_type": "execute_result"
    }
   ],
   "source": [
    "data = pd.read_csv('~/Desktop/716/javaperformance/java-csv.csv')\n",
    "data.head(5)"
   ]
  },
  {
   "cell_type": "code",
   "execution_count": 4,
   "metadata": {
    "scrolled": true
   },
   "outputs": [
    {
     "data": {
      "text/plain": [
       "PredictedLabel\n",
       "False    19.187052\n",
       "True     21.614267\n",
       "Name: len, dtype: float64"
      ]
     },
     "execution_count": 4,
     "metadata": {},
     "output_type": "execute_result"
    }
   ],
   "source": [
    "data[\"len\"] = [len(text) for text in data[\"QueryString\"].values]\n",
    "data.groupby(\"PredictedLabel\")[\"len\"].mean()"
   ]
  },
  {
   "cell_type": "code",
   "execution_count": 5,
   "metadata": {},
   "outputs": [
    {
     "data": {
      "text/html": [
       "<div>\n",
       "<style scoped>\n",
       "    .dataframe tbody tr th:only-of-type {\n",
       "        vertical-align: middle;\n",
       "    }\n",
       "\n",
       "    .dataframe tbody tr th {\n",
       "        vertical-align: top;\n",
       "    }\n",
       "\n",
       "    .dataframe thead th {\n",
       "        text-align: right;\n",
       "    }\n",
       "</style>\n",
       "<table border=\"1\" class=\"dataframe\">\n",
       "  <thead>\n",
       "    <tr style=\"text-align: right;\">\n",
       "      <th></th>\n",
       "      <th>QueryString</th>\n",
       "      <th>PredictedLabel</th>\n",
       "      <th>len</th>\n",
       "    </tr>\n",
       "  </thead>\n",
       "  <tbody>\n",
       "    <tr>\n",
       "      <th>0</th>\n",
       "      <td>64 bit java</td>\n",
       "      <td>False</td>\n",
       "      <td>11</td>\n",
       "    </tr>\n",
       "    <tr>\n",
       "      <th>1</th>\n",
       "      <td>java 64 bit download</td>\n",
       "      <td>False</td>\n",
       "      <td>20</td>\n",
       "    </tr>\n",
       "    <tr>\n",
       "      <th>2</th>\n",
       "      <td>java test</td>\n",
       "      <td>False</td>\n",
       "      <td>9</td>\n",
       "    </tr>\n",
       "    <tr>\n",
       "      <th>3</th>\n",
       "      <td>java control panel windows 10</td>\n",
       "      <td>False</td>\n",
       "      <td>29</td>\n",
       "    </tr>\n",
       "    <tr>\n",
       "      <th>4</th>\n",
       "      <td>java jre download</td>\n",
       "      <td>False</td>\n",
       "      <td>17</td>\n",
       "    </tr>\n",
       "  </tbody>\n",
       "</table>\n",
       "</div>"
      ],
      "text/plain": [
       "                     QueryString  PredictedLabel  len\n",
       "0                    64 bit java           False   11\n",
       "1           java 64 bit download           False   20\n",
       "2                      java test           False    9\n",
       "3  java control panel windows 10           False   29\n",
       "4              java jre download           False   17"
      ]
     },
     "execution_count": 5,
     "metadata": {},
     "output_type": "execute_result"
    }
   ],
   "source": [
    "data.head()"
   ]
  },
  {
   "cell_type": "code",
   "execution_count": 6,
   "metadata": {},
   "outputs": [],
   "source": [
    "def cleanText(text):\n",
    "    \n",
    "    lemma = WordNetLemmatizer()\n",
    "    stp = stopwords.words('english')\n",
    "    \n",
    "    text = re.sub(\"[^a-zA-Z0-9]\",\" \",text)\n",
    "    text = text.lower()\n",
    "\n",
    "    text = nltk.word_tokenize(text)\n",
    "    text = [lemma.lemmatize(word) for word in text]\n",
    "    \n",
    "    text = [word for word in text if word not in stp]\n",
    "    \n",
    "    text = \" \".join(text)\n",
    "    \n",
    "    return text"
   ]
  },
  {
   "cell_type": "code",
   "execution_count": 7,
   "metadata": {},
   "outputs": [
    {
     "name": "stdout",
     "output_type": "stream",
     "text": [
      "64 bit java\n"
     ]
    }
   ],
   "source": [
    "cleanedText = []\n",
    "for text in data[\"QueryString\"]:   \n",
    "    cleanedText.append(cleanText(text))\n",
    "print(cleanedText[0])"
   ]
  },
  {
   "cell_type": "code",
   "execution_count": 8,
   "metadata": {},
   "outputs": [
    {
     "data": {
      "text/plain": [
       "False    4325\n",
       "True     2271\n",
       "Name: PredictedLabel, dtype: int64"
      ]
     },
     "execution_count": 8,
     "metadata": {},
     "output_type": "execute_result"
    }
   ],
   "source": [
    "data[\"PredictedLabel\"].value_counts()"
   ]
  },
  {
   "cell_type": "code",
   "execution_count": 9,
   "metadata": {},
   "outputs": [
    {
     "data": {
      "text/plain": [
       "(6596,)"
      ]
     },
     "execution_count": 9,
     "metadata": {},
     "output_type": "execute_result"
    }
   ],
   "source": [
    "y = data[\"PredictedLabel\"]\n",
    "y.shape"
   ]
  },
  {
   "cell_type": "code",
   "execution_count": 10,
   "metadata": {},
   "outputs": [
    {
     "data": {
      "text/plain": [
       "(6596, 1886)"
      ]
     },
     "execution_count": 10,
     "metadata": {},
     "output_type": "execute_result"
    }
   ],
   "source": [
    "vectorizer = TfidfVectorizer()\n",
    "x = vectorizer.fit_transform(cleanedText).toarray()\n",
    "x.shape"
   ]
  },
  {
   "cell_type": "code",
   "execution_count": 11,
   "metadata": {},
   "outputs": [
    {
     "name": "stdout",
     "output_type": "stream",
     "text": [
      "(array([12422102,     4712,      292,      666,     1822,     2375,\n",
      "           2541,     2107,     1129,     2310], dtype=int64), array([0. , 0.1, 0.2, 0.3, 0.4, 0.5, 0.6, 0.7, 0.8, 0.9, 1. ]))\n"
     ]
    }
   ],
   "source": [
    "print(np.histogram(x))"
   ]
  },
  {
   "cell_type": "code",
   "execution_count": 12,
   "metadata": {},
   "outputs": [],
   "source": [
    "x_train,x_test,y_train,y_test = train_test_split(x,y,random_state=4,test_size=0.3)\n",
    "X_train_lab, X_test_unlab, y_train_lab, y_test_unlab = train_test_split(x_train, y_train, test_size=0.50, random_state=1, stratify=y_train)"
   ]
  },
  {
   "cell_type": "code",
   "execution_count": 13,
   "metadata": {},
   "outputs": [
    {
     "data": {
      "text/plain": [
       "AdaBoostClassifier(base_estimator=DecisionTreeClassifier(), n_estimators=100)"
      ]
     },
     "execution_count": 13,
     "metadata": {},
     "output_type": "execute_result"
    }
   ],
   "source": [
    "#classifier = XGBClassifier(objective= 'reg:squaredlogerror', use_label_encoder=False)\n",
    "#classifier = SVC()\n",
    "classifier = classifier = AdaBoostClassifier(base_estimator=DecisionTreeClassifier(),n_estimators=100)\n",
    "classifier.fit(x_train,y_train)"
   ]
  },
  {
   "cell_type": "code",
   "execution_count": 15,
   "metadata": {},
   "outputs": [
    {
     "name": "stdout",
     "output_type": "stream",
     "text": [
      "Accuracy: 84.487\n"
     ]
    }
   ],
   "source": [
    "y_pred = classifier.predict(x_test)\n",
    "score = accuracy_score(y_test, y_pred)\n",
    "print('Accuracy: %.3f' % (score*100))"
   ]
  },
  {
   "cell_type": "code",
   "execution_count": 68,
   "metadata": {},
   "outputs": [],
   "source": [
    "\n",
    "#model = LogisticRegression()\n",
    "#model = SVC()\n",
    "#model = AdaBoostClassifier(base_estimator=DecisionTreeClassifier(),n_estimators=100)\n",
    "#model.fit(X_train_lab, y_train_lab)"
   ]
  },
  {
   "cell_type": "code",
   "execution_count": 69,
   "metadata": {},
   "outputs": [],
   "source": [
    "#yhat = model.predict(x_test)\n",
    "\n",
    "#score = accuracy_score(y_test, yhat)\n",
    "#print('Accuracy: %.3f' % (score*100))"
   ]
  },
  {
   "cell_type": "code",
   "execution_count": 16,
   "metadata": {},
   "outputs": [
    {
     "name": "stdout",
     "output_type": "stream",
     "text": [
      "Accuracy: 88.833\n"
     ]
    }
   ],
   "source": [
    "nolabel = [-1 for _ in range(len(y_test_unlab))]\n",
    "\n",
    "y_train_mixed = concatenate((y_train_lab, nolabel))\n",
    "\n",
    "model = LabelPropagation()\n",
    "\n",
    "model.fit(x_train, y_train)\n",
    "\n",
    "yhat = model.predict(x_test)\n",
    "\n",
    "score = accuracy_score(y_test, yhat)\n",
    "\n",
    "print('Accuracy: %.3f' % (score*100))"
   ]
  },
  {
   "cell_type": "code",
   "execution_count": 17,
   "metadata": {},
   "outputs": [],
   "source": [
    "tran_labels = model.transduction_"
   ]
  },
  {
   "cell_type": "code",
   "execution_count": 60,
   "metadata": {},
   "outputs": [
    {
     "name": "stdout",
     "output_type": "stream",
     "text": [
      "Accuracy: 90.450\n"
     ]
    }
   ],
   "source": [
    "#model2 = SVC()\n",
    "model2 = LogisticRegression()\n",
    "model2.fit(x_train, tran_labels)\n",
    "\n",
    "y_hat = model2.predict(x_test)\n",
    "score2 = accuracy_score(y_test, y_hat)\n",
    "print('Accuracy: %.3f' % (score2*100))"
   ]
  },
  {
   "cell_type": "code",
   "execution_count": null,
   "metadata": {},
   "outputs": [],
   "source": []
  },
  {
   "cell_type": "code",
   "execution_count": null,
   "metadata": {},
   "outputs": [],
   "source": [
    "#x.astype(numpy.float32)"
   ]
  },
  {
   "cell_type": "code",
   "execution_count": 61,
   "metadata": {},
   "outputs": [
    {
     "name": "stdout",
     "output_type": "stream",
     "text": [
      "MSE test data: 0.095503\n",
      "RMSE test data: 0.55591\n",
      "R2 test data: 0.57626\n",
      "[[1280   20]\n",
      " [ 169  510]]\n",
      "1280\n",
      "20\n",
      "169\n",
      "510\n",
      "Accuracy =  0.9044972208185953\n",
      "Precision =  0.9846153846153847\n",
      "Recall =  0.883367839889579\n",
      "f1score =  0.9312477264459804\n"
     ]
    }
   ],
   "source": [
    "y_pred = y_hat.astype(np.float32)\n",
    "y_test = y_test.astype(np.float32)\n",
    "\n",
    "test_mse = mean_squared_error(y_test, y_pred)\n",
    "\n",
    "print('MSE test data: {:.5}'.format(test_mse))\n",
    "print('RMSE test data: {:.5}'.format(\n",
    "    np.sqrt(np.sqrt(np.absolute(test_mse)))))\n",
    "print('R2 test data: {:.5}'.format(\n",
    "    r2_score(y_test,y_pred)))\n",
    "\n",
    "cm = confusion_matrix(y_test, y_pred)\n",
    "print(cm)\n",
    "TP = cm[0][0]\n",
    "FP = cm[0][1]\n",
    "FN = cm[1][0]\n",
    "TN = cm[1][1]\n",
    "print(TP)\n",
    "print(FP)\n",
    "print(FN)\n",
    "print(TN)\n",
    "accuracy = (TP+TN)/(TP+FP+FN+TN)\n",
    "print('Accuracy = ',accuracy)\n",
    "\n",
    "Precision = (TP)/(TP+FP)\n",
    "print('Precision = ',Precision)\n",
    "\n",
    "Recall = (TP)/(TP+FN)\n",
    "print('Recall = ',Recall)\n",
    "\n",
    "f1score = 2*(Recall*Precision)/(Recall+Precision)\n",
    "print('f1score = ',f1score)\n"
   ]
  },
  {
   "cell_type": "code",
   "execution_count": null,
   "metadata": {},
   "outputs": [],
   "source": []
  },
  {
   "cell_type": "code",
   "execution_count": null,
   "metadata": {},
   "outputs": [],
   "source": []
  },
  {
   "cell_type": "code",
   "execution_count": null,
   "metadata": {},
   "outputs": [],
   "source": []
  },
  {
   "cell_type": "markdown",
   "metadata": {},
   "source": [
    "# Other single classifier models"
   ]
  },
  {
   "cell_type": "code",
   "execution_count": 62,
   "metadata": {},
   "outputs": [
    {
     "name": "stdout",
     "output_type": "stream",
     "text": [
      "Accuracy: 90.298\n"
     ]
    }
   ],
   "source": [
    "model3 = SGDClassifier()\n",
    "model3.fit(X_train_lab, y_train_lab)\n",
    "\n",
    "y_hat3 = model3.predict(x_test)\n",
    "score3 = accuracy_score(y_test, y_hat3)\n",
    "print('Accuracy: %.3f' % (score3*100))"
   ]
  },
  {
   "cell_type": "code",
   "execution_count": 63,
   "metadata": {},
   "outputs": [
    {
     "name": "stdout",
     "output_type": "stream",
     "text": [
      "MSE test data: 0.097019\n",
      "RMSE test data: 0.5581\n",
      "R2 test data: 0.56954\n",
      "[[1240   60]\n",
      " [ 132  547]]\n",
      "1240\n",
      "60\n",
      "132\n",
      "547\n",
      "Accuracy =  0.9029813036887316\n",
      "Precision =  0.9538461538461539\n",
      "Recall =  0.9037900874635568\n",
      "f1score =  0.9281437125748503\n"
     ]
    }
   ],
   "source": [
    "y_pred = y_hat3.astype(np.float32)\n",
    "y_test = y_test.astype(np.float32)\n",
    "\n",
    "test_mse = mean_squared_error(y_test, y_pred)\n",
    "\n",
    "print('MSE test data: {:.5}'.format(test_mse))\n",
    "print('RMSE test data: {:.5}'.format(\n",
    "    np.sqrt(np.sqrt(np.absolute(test_mse)))))\n",
    "print('R2 test data: {:.5}'.format(\n",
    "    r2_score(y_test,y_pred)))\n",
    "\n",
    "cm = confusion_matrix(y_test, y_pred)\n",
    "print(cm)\n",
    "TP = cm[0][0]\n",
    "FP = cm[0][1]\n",
    "FN = cm[1][0]\n",
    "TN = cm[1][1]\n",
    "print(TP)\n",
    "print(FP)\n",
    "print(FN)\n",
    "print(TN)\n",
    "accuracy = (TP+TN)/(TP+FP+FN+TN)\n",
    "print('Accuracy = ',accuracy)\n",
    "\n",
    "Precision = (TP)/(TP+FP)\n",
    "print('Precision = ',Precision)\n",
    "\n",
    "Recall = (TP)/(TP+FN)\n",
    "print('Recall = ',Recall)\n",
    "\n",
    "f1score = 2*(Recall*Precision)/(Recall+Precision)\n",
    "print('f1score = ',f1score)\n"
   ]
  },
  {
   "cell_type": "code",
   "execution_count": null,
   "metadata": {},
   "outputs": [],
   "source": []
  },
  {
   "cell_type": "code",
   "execution_count": 50,
   "metadata": {},
   "outputs": [
    {
     "name": "stdout",
     "output_type": "stream",
     "text": [
      "Accuracy: 88.732\n"
     ]
    }
   ],
   "source": [
    "model4 = XGBClassifier(use_label_encoder=False, objective= 'reg:squaredlogerror')\n",
    "model4.fit(X_train_lab, y_train_lab)\n",
    "\n",
    "y_hat4 = model4.predict(x_test)\n",
    "score4 = accuracy_score(y_test, y_hat4)\n",
    "print('Accuracy: %.3f' % (score4*100))"
   ]
  },
  {
   "cell_type": "code",
   "execution_count": 64,
   "metadata": {},
   "outputs": [
    {
     "name": "stdout",
     "output_type": "stream",
     "text": [
      "MSE test data: 0.11268\n",
      "RMSE test data: 0.57938\n",
      "R2 test data: 0.50004\n",
      "[[1280   20]\n",
      " [ 203  476]]\n",
      "1280\n",
      "20\n",
      "203\n",
      "476\n",
      "Accuracy =  0.8873168266801414\n",
      "Precision =  0.9846153846153847\n",
      "Recall =  0.8631153068105192\n",
      "f1score =  0.9198706431908013\n"
     ]
    }
   ],
   "source": [
    "y_pred = y_hat4.astype(np.float32)\n",
    "y_test = y_test.astype(np.float32)\n",
    "\n",
    "test_mse = mean_squared_error(y_test, y_pred)\n",
    "\n",
    "print('MSE test data: {:.5}'.format(test_mse))\n",
    "print('RMSE test data: {:.5}'.format(\n",
    "    np.sqrt(np.sqrt(np.absolute(test_mse)))))\n",
    "print('R2 test data: {:.5}'.format(\n",
    "    r2_score(y_test,y_pred)))\n",
    "\n",
    "cm = confusion_matrix(y_test, y_pred)\n",
    "print(cm)\n",
    "TP = cm[0][0]\n",
    "FP = cm[0][1]\n",
    "FN = cm[1][0]\n",
    "TN = cm[1][1]\n",
    "print(TP)\n",
    "print(FP)\n",
    "print(FN)\n",
    "print(TN)\n",
    "accuracy = (TP+TN)/(TP+FP+FN+TN)\n",
    "print('Accuracy = ',accuracy)\n",
    "\n",
    "Precision = (TP)/(TP+FP)\n",
    "print('Precision = ',Precision)\n",
    "\n",
    "Recall = (TP)/(TP+FN)\n",
    "print('Recall = ',Recall)\n",
    "\n",
    "f1score = 2*(Recall*Precision)/(Recall+Precision)\n",
    "print('f1score = ',f1score)"
   ]
  },
  {
   "cell_type": "code",
   "execution_count": null,
   "metadata": {},
   "outputs": [],
   "source": []
  },
  {
   "cell_type": "code",
   "execution_count": 65,
   "metadata": {},
   "outputs": [
    {
     "name": "stdout",
     "output_type": "stream",
     "text": [
      "Accuracy: 88.580\n"
     ]
    }
   ],
   "source": [
    "model5 = LogisticRegression()\n",
    "model5.fit(X_train_lab, y_train_lab)\n",
    "\n",
    "y_hat5 = model5.predict(x_test)\n",
    "score5 = accuracy_score(y_test, y_hat5)\n",
    "print('Accuracy: %.3f' % (score5*100))"
   ]
  },
  {
   "cell_type": "code",
   "execution_count": 66,
   "metadata": {},
   "outputs": [
    {
     "name": "stdout",
     "output_type": "stream",
     "text": [
      "MSE test data: 0.1142\n",
      "RMSE test data: 0.58132\n",
      "R2 test data: 0.49331\n",
      "[[1285   15]\n",
      " [ 211  468]]\n",
      "1285\n",
      "15\n",
      "211\n",
      "468\n",
      "Accuracy =  0.8858009095502779\n",
      "Precision =  0.9884615384615385\n",
      "Recall =  0.858957219251337\n",
      "f1score =  0.9191702432045781\n"
     ]
    }
   ],
   "source": [
    "y_pred = y_hat5.astype(np.float32)\n",
    "y_test = y_test.astype(np.float32)\n",
    "\n",
    "test_mse = mean_squared_error(y_test, y_pred)\n",
    "\n",
    "print('MSE test data: {:.5}'.format(test_mse))\n",
    "print('RMSE test data: {:.5}'.format(\n",
    "    np.sqrt(np.sqrt(np.absolute(test_mse)))))\n",
    "print('R2 test data: {:.5}'.format(\n",
    "    r2_score(y_test,y_pred)))\n",
    "\n",
    "cm = confusion_matrix(y_test, y_pred)\n",
    "print(cm)\n",
    "TP = cm[0][0]\n",
    "FP = cm[0][1]\n",
    "FN = cm[1][0]\n",
    "TN = cm[1][1]\n",
    "print(TP)\n",
    "print(FP)\n",
    "print(FN)\n",
    "print(TN)\n",
    "accuracy = (TP+TN)/(TP+FP+FN+TN)\n",
    "print('Accuracy = ',accuracy)\n",
    "\n",
    "Precision = (TP)/(TP+FP)\n",
    "print('Precision = ',Precision)\n",
    "\n",
    "Recall = (TP)/(TP+FN)\n",
    "print('Recall = ',Recall)\n",
    "\n",
    "f1score = 2*(Recall*Precision)/(Recall+Precision)\n",
    "print('f1score = ',f1score)"
   ]
  },
  {
   "cell_type": "code",
   "execution_count": null,
   "metadata": {},
   "outputs": [],
   "source": []
  },
  {
   "cell_type": "code",
   "execution_count": 67,
   "metadata": {},
   "outputs": [
    {
     "name": "stdout",
     "output_type": "stream",
     "text": [
      "Accuracy: 88.125\n"
     ]
    }
   ],
   "source": [
    "model7 = MultinomialNB()\n",
    "model7.fit(X_train_lab, y_train_lab)\n",
    "\n",
    "y_hat7 = model7.predict(x_test)\n",
    "score7 = accuracy_score(y_test, y_hat7)\n",
    "print('Accuracy: %.3f' % (score7*100))"
   ]
  },
  {
   "cell_type": "code",
   "execution_count": 68,
   "metadata": {},
   "outputs": [
    {
     "name": "stdout",
     "output_type": "stream",
     "text": [
      "MSE test data: 0.11875\n",
      "RMSE test data: 0.58702\n",
      "R2 test data: 0.47313\n",
      "[[1221   79]\n",
      " [ 156  523]]\n",
      "1221\n",
      "79\n",
      "156\n",
      "523\n",
      "Accuracy =  0.8812531581606872\n",
      "Precision =  0.9392307692307692\n",
      "Recall =  0.8867102396514162\n",
      "f1score =  0.9122151662308553\n"
     ]
    }
   ],
   "source": [
    "y_pred = y_hat7.astype(np.float32)\n",
    "y_test = y_test.astype(np.float32)\n",
    "\n",
    "test_mse = mean_squared_error(y_test, y_pred)\n",
    "\n",
    "print('MSE test data: {:.5}'.format(test_mse))\n",
    "print('RMSE test data: {:.5}'.format(\n",
    "    np.sqrt(np.sqrt(np.absolute(test_mse)))))\n",
    "print('R2 test data: {:.5}'.format(\n",
    "    r2_score(y_test,y_pred)))\n",
    "\n",
    "cm = confusion_matrix(y_test, y_pred)\n",
    "print(cm)\n",
    "TP = cm[0][0]\n",
    "FP = cm[0][1]\n",
    "FN = cm[1][0]\n",
    "TN = cm[1][1]\n",
    "print(TP)\n",
    "print(FP)\n",
    "print(FN)\n",
    "print(TN)\n",
    "accuracy = (TP+TN)/(TP+FP+FN+TN)\n",
    "print('Accuracy = ',accuracy)\n",
    "\n",
    "Precision = (TP)/(TP+FP)\n",
    "print('Precision = ',Precision)\n",
    "\n",
    "Recall = (TP)/(TP+FN)\n",
    "print('Recall = ',Recall)\n",
    "\n",
    "f1score = 2*(Recall*Precision)/(Recall+Precision)\n",
    "print('f1score = ',f1score)"
   ]
  },
  {
   "cell_type": "code",
   "execution_count": null,
   "metadata": {},
   "outputs": [],
   "source": []
  },
  {
   "cell_type": "code",
   "execution_count": 69,
   "metadata": {},
   "outputs": [
    {
     "name": "stdout",
     "output_type": "stream",
     "text": [
      "Accuracy: 89.490\n"
     ]
    }
   ],
   "source": [
    "model8 = DecisionTreeClassifier()\n",
    "model8.fit(X_train_lab, y_train_lab)\n",
    "\n",
    "y_hat8 = model8.predict(x_test)\n",
    "score8 = accuracy_score(y_test, y_hat8)\n",
    "print('Accuracy: %.3f' % (score8*100))"
   ]
  },
  {
   "cell_type": "code",
   "execution_count": 70,
   "metadata": {},
   "outputs": [
    {
     "name": "stdout",
     "output_type": "stream",
     "text": [
      "MSE test data: 0.1051\n",
      "RMSE test data: 0.56938\n",
      "R2 test data: 0.53367\n",
      "[[1231   69]\n",
      " [ 139  540]]\n",
      "1231\n",
      "69\n",
      "139\n",
      "540\n",
      "Accuracy =  0.8948964123294593\n",
      "Precision =  0.946923076923077\n",
      "Recall =  0.8985401459854014\n",
      "f1score =  0.9220973782771537\n"
     ]
    }
   ],
   "source": [
    "y_pred = y_hat8.astype(np.float32)\n",
    "y_test = y_test.astype(np.float32)\n",
    "\n",
    "test_mse = mean_squared_error(y_test, y_pred)\n",
    "\n",
    "print('MSE test data: {:.5}'.format(test_mse))\n",
    "print('RMSE test data: {:.5}'.format(\n",
    "    np.sqrt(np.sqrt(np.absolute(test_mse)))))\n",
    "print('R2 test data: {:.5}'.format(\n",
    "    r2_score(y_test,y_pred)))\n",
    "\n",
    "cm = confusion_matrix(y_test, y_pred)\n",
    "print(cm)\n",
    "TP = cm[0][0]\n",
    "FP = cm[0][1]\n",
    "FN = cm[1][0]\n",
    "TN = cm[1][1]\n",
    "print(TP)\n",
    "print(FP)\n",
    "print(FN)\n",
    "print(TN)\n",
    "accuracy = (TP+TN)/(TP+FP+FN+TN)\n",
    "print('Accuracy = ',accuracy)\n",
    "\n",
    "Precision = (TP)/(TP+FP)\n",
    "print('Precision = ',Precision)\n",
    "\n",
    "Recall = (TP)/(TP+FN)\n",
    "print('Recall = ',Recall)\n",
    "\n",
    "f1score = 2*(Recall*Precision)/(Recall+Precision)\n",
    "print('f1score = ',f1score)"
   ]
  },
  {
   "cell_type": "code",
   "execution_count": null,
   "metadata": {},
   "outputs": [],
   "source": []
  },
  {
   "cell_type": "code",
   "execution_count": null,
   "metadata": {},
   "outputs": [],
   "source": []
  },
  {
   "cell_type": "code",
   "execution_count": null,
   "metadata": {},
   "outputs": [],
   "source": []
  },
  {
   "cell_type": "code",
   "execution_count": 23,
   "metadata": {},
   "outputs": [],
   "source": []
  },
  {
   "cell_type": "code",
   "execution_count": null,
   "metadata": {},
   "outputs": [],
   "source": []
  },
  {
   "cell_type": "code",
   "execution_count": null,
   "metadata": {},
   "outputs": [],
   "source": []
  },
  {
   "cell_type": "code",
   "execution_count": null,
   "metadata": {},
   "outputs": [],
   "source": []
  },
  {
   "cell_type": "code",
   "execution_count": null,
   "metadata": {},
   "outputs": [],
   "source": []
  },
  {
   "cell_type": "code",
   "execution_count": null,
   "metadata": {},
   "outputs": [],
   "source": []
  },
  {
   "cell_type": "code",
   "execution_count": null,
   "metadata": {},
   "outputs": [],
   "source": []
  },
  {
   "cell_type": "code",
   "execution_count": null,
   "metadata": {},
   "outputs": [],
   "source": []
  }
 ],
 "metadata": {
  "kernelspec": {
   "display_name": "Python 3",
   "language": "python",
   "name": "python3"
  },
  "language_info": {
   "codemirror_mode": {
    "name": "ipython",
    "version": 3
   },
   "file_extension": ".py",
   "mimetype": "text/x-python",
   "name": "python",
   "nbconvert_exporter": "python",
   "pygments_lexer": "ipython3",
   "version": "3.8.5"
  }
 },
 "nbformat": 4,
 "nbformat_minor": 4
}
